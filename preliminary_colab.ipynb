{
  "cells": [
    {
      "cell_type": "markdown",
      "metadata": {
        "id": "cN3D48gDvaNu"
      },
      "source": [
        "<script src=\"https://cdn.mathjax.org/mathjax/latest/MathJax.js?config=TeX-AMS_HTML\"></script>"
      ]
    },
    {
      "cell_type": "code",
      "execution_count": null,
      "metadata": {
        "id": "iflz9raGWpki"
      },
      "outputs": [],
      "source": [
        "!git clone https://github.com/roeeSch/data_exercise.git"
      ]
    },
    {
      "cell_type": "markdown",
      "metadata": {
        "id": "vsGdt6QYWfH2"
      },
      "source": [
        "### Import necessary packages:"
      ]
    },
    {
      "cell_type": "code",
      "execution_count": null,
      "metadata": {
        "id": "-maqp4IhWfH4"
      },
      "outputs": [],
      "source": [
        "import numpy as np\n",
        "import pandas as pd\n",
        "import skimage.measure\n",
        "\n",
        "from matplotlib import pyplot as plt"
      ]
    },
    {
      "cell_type": "markdown",
      "metadata": {
        "id": "2vkx5GUwWfH6"
      },
      "source": [
        "### Import local packages"
      ]
    },
    {
      "cell_type": "code",
      "execution_count": null,
      "metadata": {
        "id": "ffprqJzkWfH7"
      },
      "outputs": [],
      "source": [
        "all_data = True\n",
        "analysis = False\n",
        "\n",
        "try:\n",
        "    # for colab\n",
        "    from data_exercise.utils import ls2pc, ls2ft, calc_lin_char\n",
        "    workdir = 'data_exercise'\n",
        "except ModuleNotFoundError as e:\n",
        "    # for local\n",
        "    from utils import ls2pc, ls2ft, calc_lin_char\n",
        "    workdir = '.'"
      ]
    },
    {
      "cell_type": "markdown",
      "metadata": {
        "id": "N4iIEkgWWfH9"
      },
      "source": [
        "### Load recording from csv file"
      ]
    },
    {
      "cell_type": "code",
      "execution_count": null,
      "metadata": {
        "colab": {
          "base_uri": "https://localhost:8080/",
          "height": 254
        },
        "id": "c7tC1bhIWfH-",
        "outputId": "c0fd57e2-0471-465a-9d73-83d7daa4db06"
      },
      "outputs": [],
      "source": [
        "# Load csv:\n",
        "file_name, lookingUp = workdir + '/rec_08c.csv', False\n",
        "table = pd.read_table(file_name, delimiter=',')\n",
        "\n",
        "table.iloc[:3]"
      ]
    },
    {
      "cell_type": "markdown",
      "metadata": {
        "id": "EZr_3uVLWfIA"
      },
      "source": [
        "**Columns are:**\n",
        "1. tick is the time column (in milliseconds)\n",
        "2. stateEstimate.x and stateEstimate.y are the (x,y) coordinates of spot in meters.\n",
        "3. stateEstimate.yaw is spots orientation in degrees.\n",
        "4. The fields {mr18.m0, mr18.m1, ..., mr18.m15} are the range measurements in millimeters. Ranges above 4000 are measurement errors.\n"
      ]
    },
    {
      "cell_type": "markdown",
      "metadata": {
        "id": "e1c6cFMJWfIB"
      },
      "source": [
        "#### Convert recorded data into desired physical units:"
      ]
    },
    {
      "cell_type": "code",
      "execution_count": null,
      "metadata": {
        "colab": {
          "base_uri": "https://localhost:8080/"
        },
        "id": "G521geCfWfID",
        "outputId": "8e74e91c-f892-4fb3-ccc0-9084a8aadc37"
      },
      "outputs": [],
      "source": [
        "\n",
        "time = table['tick'].to_numpy()\n",
        "time -= time[0]\n",
        "Ts = np.median(np.diff(time, 1))\n",
        "print(f'original Ts={1000.0*Ts} [ms], time is [{time[0]},{time[-1]}]')\n",
        "\n",
        "ranges = table[[f'mr18.m{i}' for i in range(16)]].to_numpy(dtype=float)*0.001\n",
        "x = table['stateEstimate.x'].to_numpy()\n",
        "y = table['stateEstimate.y'].to_numpy()\n",
        "\n",
        "# unwrap angle:\n",
        "t = np.unwrap(np.deg2rad(table['stateEstimate.yaw'].to_numpy()))\n",
        "print(f'ranges shape before reduction: {ranges.shape}')"
      ]
    },
    {
      "cell_type": "markdown",
      "metadata": {
        "id": "VTnx8cfHWfIF"
      },
      "source": [
        "#### Down-sample\n",
        "If needed (computations are faster with less data), downsample the recording"
      ]
    },
    {
      "cell_type": "code",
      "execution_count": null,
      "metadata": {
        "colab": {
          "base_uri": "https://localhost:8080/"
        },
        "id": "SrDBAHV9WfIH",
        "outputId": "c75b32f1-bfef-4135-bd71-af46bc326eaa"
      },
      "outputs": [],
      "source": [
        "\n",
        "# down-sample:\n",
        "D = 1\n",
        "if D>1:\n",
        "    ranges = skimage.measure.block_reduce(ranges, (D,1), np.max)\n",
        "    print(f'ranges shape after D=({D},1) reduction: {ranges.shape}')\n",
        "    x = skimage.measure.block_reduce(x, (D,), np.median)\n",
        "    y = skimage.measure.block_reduce(y, (D,), np.median)\n",
        "    t = skimage.measure.block_reduce(t, (D,), np.median)\n",
        "    time = skimage.measure.block_reduce(time, (D,), np.max)\n",
        "\n",
        "Ts = np.median(np.diff(time, 1))\n",
        "print(f'downsampled Ts={1000.0*Ts} [ms]')"
      ]
    },
    {
      "cell_type": "markdown",
      "metadata": {
        "id": "TNURgULXWfII"
      },
      "source": [
        "#### Plot the x,y coordinates:"
      ]
    },
    {
      "cell_type": "code",
      "execution_count": null,
      "metadata": {
        "colab": {
          "base_uri": "https://localhost:8080/",
          "height": 719
        },
        "id": "U8CXPOJeWfIJ",
        "outputId": "591bfccf-67c2-4d2d-d9be-84abedb61074"
      },
      "outputs": [],
      "source": [
        "plt.figure(figsize=(24,16), dpi=200)\n",
        "plt.plot(x[::31], y[::31], '-b.', markersize=5)\n",
        "plt.show()"
      ]
    },
    {
      "cell_type": "markdown",
      "metadata": {
        "id": "8S3rsnQyWfIK"
      },
      "source": [
        "## Laser Scan Vs Point Cloud\n",
        "*ls2pc* - converts ranges to their corresponding x,y coordinates\n"
      ]
    },
    {
      "cell_type": "code",
      "execution_count": null,
      "metadata": {
        "colab": {
          "base_uri": "https://localhost:8080/",
          "height": 719
        },
        "id": "celZmLx-WfIK",
        "outputId": "809560de-231e-4f5d-b02b-465e46fa5661"
      },
      "outputs": [],
      "source": [
        "# This is a laser scan (LS) range array:\n",
        "range_ = np.array([[1,1,2,3,4,5,6,7,11,7,6,5,4,3,2,1]])\n",
        "# convert the LS to point cloud, using the information about the sensor orientations relative to each other:\n",
        "x_origin = np.array([0])\n",
        "y_origin = np.array([0])\n",
        "yaw = np.array([0])\n",
        "\n",
        "pc_x_r_, pc_y_r_, valid_inds_bool_, valid_inds_ = ls2pc(x_origin, y_origin, yaw, range_)\n",
        "\n",
        "# plot the point cloud\n",
        "plt.figure(figsize=(24,16), dpi=100)\n",
        "plt.plot(pc_x_r_, pc_y_r_, 'm.', markersize=16)\n",
        "plt.plot(0, 0, '-b.', markersize=5)\n",
        "plt.show()\n",
        "\n",
        "# play around with the other inputs of ls2pc: x_origin, y_origin, yaw."
      ]
    },
    {
      "cell_type": "markdown",
      "metadata": {
        "id": "qGo5k0pUWfIL"
      },
      "source": [
        "## Add the laser scanner data\n"
      ]
    },
    {
      "cell_type": "code",
      "execution_count": null,
      "metadata": {
        "colab": {
          "base_uri": "https://localhost:8080/",
          "height": 719
        },
        "id": "Ed4y5FxuWfIL",
        "outputId": "79a1a0cb-a5eb-4ceb-a136-f04dbbc51cd8"
      },
      "outputs": [],
      "source": [
        "# Convert laser scan (16 ranges) to point cloud (2x16 xy coordinates)\n",
        "pc_x_r_, pc_y_r_, valid_inds_bool_, valid_inds_ = ls2pc(x, y, t, ranges)\n",
        "plt.figure(figsize=(24,16), dpi=200)\n",
        "plt.plot(pc_x_r_[valid_inds_bool_][::31], pc_y_r_[valid_inds_bool_][::31], 'm.', markersize=1)\n",
        "plt.plot(x[::31], y[::31], '-b.', markersize=5)\n",
        "plt.show()"
      ]
    },
    {
      "cell_type": "markdown",
      "metadata": {
        "id": "ObPAM5XtWfIM"
      },
      "source": [
        "**What you see above is the same data ploted in the README.md**\n",
        "\n",
        "In blue is the odometry - the xy coordinates of spot.\n",
        "\n",
        "In magenta - the walls\\objects picked up by the range sensors."
      ]
    },
    {
      "cell_type": "code",
      "execution_count": null,
      "metadata": {
        "id": "Q70KLZUGWfIN"
      },
      "outputs": [],
      "source": [
        "# convert laser scans to point cloud:\n",
        "pc_x_r, pc_y_r, valid_inds_bool, valid_inds = ls2pc(x, y, t, ranges)"
      ]
    },
    {
      "cell_type": "markdown",
      "metadata": {
        "id": "HhuMxk8IWfIN"
      },
      "source": [
        "### Plot location with incrementally changing color:"
      ]
    },
    {
      "cell_type": "code",
      "execution_count": null,
      "metadata": {
        "colab": {
          "base_uri": "https://localhost:8080/",
          "height": 719
        },
        "id": "5DG35TDF7ecr",
        "outputId": "d75542ee-9a68-4e3b-faaf-06238adbf520"
      },
      "outputs": [],
      "source": [
        "import matplotlib.cm as cm\n",
        "c = cm.rainbow(np.linspace(0, 1, len(y[::31])))\n",
        "\n",
        "plt.figure(figsize=(24,16), dpi=200)\n",
        "plt.plot(pc_x_r_[valid_inds_bool_][::31], pc_y_r_[valid_inds_bool_][::31], 'm.', markersize=1)\n",
        "plt.plot(x[::31], y[::31], alpha=0.2)\n",
        "plt.scatter(x[::31], y[::31], color=c)\n",
        "plt.show()"
      ]
    },
    {
      "cell_type": "markdown",
      "metadata": {
        "id": "R8Ecn0HZWfIP"
      },
      "source": [
        "Note that the color of the location markers changes as a function of time (temporally close measurements closly colored)"
      ]
    },
    {
      "cell_type": "markdown",
      "metadata": {
        "id": "jQcXOeBQWfIQ"
      },
      "source": [
        "### Task #1\n",
        "1. Add 2 markers colored green and red. The green indicating the starting position and the red indicating the final.\n",
        "2. Change the color of the odometry marker to visualize what percent of the 16 range measurements are above 2 meters. Use the color gradient 0%-black, 100%-blue.\n",
        "    \n",
        "  If $X_{x, y}^i$ is the location of spot at time $t_i$, and $\\{r_n^i\\}_{n=1}^{16}$ are the range measurements at time $t_i$, then the marker of $X_{x, y}^i$ will be colored as follows:\n",
        "\n",
        "  $$f(\\overline{r}~^i)=f(r_1^i,\\ r_2^i,\\ ...,\\ r_{16}^i)=\\sum_{n=1}^{16}\\frac{1}{16}(r_n^i>2.0)$$\n",
        "    \n",
        "  $$Color(X_{x, y}^i)=\\{R^i, G^i, B^i\\} = \\{0,\\ 0,\\ 255\\cdot f(r_1^i,\\ r_2^i,\\ ...,\\ r_{16}^i)\\}$$"
      ]
    },
    {
      "cell_type": "code",
      "execution_count": null,
      "metadata": {
        "id": "EAfScPKfWfIR"
      },
      "outputs": [],
      "source": [
        "# Enter your code here"
      ]
    },
    {
      "cell_type": "markdown",
      "metadata": {
        "id": "LOijX0H6WfIR"
      },
      "source": [
        "### Task #2:\n",
        "In your own words write a short explanation about what this feature ($f$) represents. If spot is in a location that is blue rather than black, what does this say about the surrounding?"
      ]
    },
    {
      "attachments": {},
      "cell_type": "markdown",
      "metadata": {
        "id": "f-modBP2WfIa"
      },
      "source": [
        "### Task #3\n",
        "What would you change in the above feature function $f$ so that it would be smoother and less discrete?\n",
        "\n",
        "$|f^*(\\overline{r}~^i)-f^*(\\overline{r}~^{i-1})|~~<~~|f(\\overline{r}~^i)-f(\\overline{r}~^{i-1})|$\n",
        "\n",
        "Add a plot with your suggestion and add a measure of smoothness that quanitfies how much smoother is your improved $f^*$ relative to $f$.\n",
        "\n",
        "**Hint:** take a look at the **get_sigmoid** function in `utils.py`"
      ]
    },
    {
      "cell_type": "code",
      "execution_count": null,
      "metadata": {},
      "outputs": [],
      "source": [
        "# Enter your code here"
      ]
    },
    {
      "attachments": {},
      "cell_type": "markdown",
      "metadata": {
        "id": "y_QGBJu8WfIb"
      },
      "source": [
        "### Summary:\n",
        "\n",
        "In this preliminary notebook we learned:\n",
        "1. What the data looks like (laser scan and odometry)\n",
        "2. We learned how to display the data with matplotlib\n",
        "3. Finally, in the tasks, we built a single feature that indicates a type of surrounding based on a laser scan.\n",
        "\n",
        "Next, we will add more feature functions. These will be the bassis for bulding the required classifier mentioned in the *README.md*."
      ]
    },
    {
      "cell_type": "code",
      "execution_count": null,
      "metadata": {},
      "outputs": [],
      "source": [
        "try:\n",
        "    from data_exercise.utils import get_features_from_ranges\n",
        "except ModuleNotFoundError as e:\n",
        "    from utils import get_features_from_ranges\n",
        "\n",
        "featureMat = get_features_from_ranges(ranges)\n",
        "\n",
        "print('ranges shape = {}'.format(ranges.shape))\n",
        "print('featureMat shape = {}'.format(featureMat.shape))\n"
      ]
    },
    {
      "attachments": {},
      "cell_type": "markdown",
      "metadata": {},
      "source": [
        "## Lets use these features to build a classifier:\n",
        "\n",
        "\n",
        "The BD engineers want to create a classifier. A classifier that takes as inputs 16 range measurements and decides which of the 3 classes these 16 measurements belong to. The engineers do not care what the meaning of these classes are, as long as the following criterion's are met:\n",
        "\n",
        "1. Close laser scan readings are classified to the same class with a high probability.\n",
        "\n",
        "   **Note:** This also means that cyclically shifting a measurement should not influence the classifier.\n",
        "\n",
        "   For example:\n",
        "   $$\n",
        "   \\begin{aligned}\n",
        "   Class(r^0_i,r^1_i,..., r^{15}_i)==Class(r^1_i,..., r^{15}_i,r^0_i)\n",
        "   \\end{aligned}\n",
        "   $$\n",
        "\n",
        "2. The occurrences of each class should distribute as even as possible ($1/3, 1/3, 1/3$) over a recording. \n",
        "\n",
        "3. The engineers do not want to manually label the data.\n",
        "\n"
      ]
    },
    {
      "cell_type": "code",
      "execution_count": null,
      "metadata": {},
      "outputs": [],
      "source": [
        "from sklearn.cluster import KMeans\n",
        "from sklearn.preprocessing import StandardScaler\n",
        "from sklearn.decomposition import PCA\n",
        "\n",
        "scaler = StandardScaler()\n",
        "pca_2comp = PCA(n_components=7)\n",
        "kmeans_pca = KMeans(n_clusters=3, init='k-means++', random_state=42)\n"
      ]
    },
    {
      "attachments": {},
      "cell_type": "markdown",
      "metadata": {},
      "source": [
        "\n",
        "#### Task 4: Implement the calculation of `labeled_ranges`:\n",
        "\n",
        "Read about these 3 functions (KMeans, StandardScaler and PCA).\n",
        "\n",
        "Use `scaler.fit_transform`, `pca_2comp.fit_transform` and `kmeans_pca.fit_predict` to build a classifier."
      ]
    },
    {
      "cell_type": "code",
      "execution_count": null,
      "metadata": {},
      "outputs": [],
      "source": [
        "# Enter Your  code here \n",
        "# Hint: this can be implemented in 3 function calls\n",
        "#       e.g. labeled_ranges = f1(f2(f3(featureMat)))\n",
        "\n",
        "# labeled_ranges = ?\n",
        "\n",
        "# What is the reason for all these stages?"
      ]
    },
    {
      "cell_type": "code",
      "execution_count": null,
      "metadata": {},
      "outputs": [],
      "source": [
        "print(f'shape labeled_ranges = {labeled_ranges.shape}')\n",
        "print(f'labeled_ranges[:6]={labeled_ranges[:6]}')"
      ]
    },
    {
      "cell_type": "markdown",
      "metadata": {},
      "source": [
        "### Plot results\n",
        "note: should look the same as README.md"
      ]
    },
    {
      "cell_type": "code",
      "execution_count": null,
      "metadata": {},
      "outputs": [],
      "source": [
        "plt.figure(figsize=(24,16), dpi=200)\n",
        "plt.plot(pc_x_r[valid_inds_bool][::31], pc_y_r[valid_inds_bool][::31], 'm.', markersize=1)\n",
        "plt.plot(x[::31], y[::31], alpha=0.2)\n",
        "plt.scatter(x[::31], y[::31], c=labeled_ranges[::31])\n",
        "plt.show()"
      ]
    },
    {
      "attachments": {},
      "cell_type": "markdown",
      "metadata": {},
      "source": [
        "### (1) Check if close points are similarly classified:"
      ]
    },
    {
      "cell_type": "code",
      "execution_count": null,
      "metadata": {},
      "outputs": [],
      "source": [
        "# Convert to arrays:\n",
        "X = np.vstack((x, y)).T\n",
        "Y = labeled_ranges\n",
        "Y = np.expand_dims(Y, axis=1)\n",
        "\n",
        "# Suggest a metric:\n",
        "from sklearn.neighbors import KNeighborsRegressor\n",
        "knn_model = KNeighborsRegressor(n_neighbors=3)\n",
        "knn_model.fit(X, Y)\n",
        "\n",
        "# Enter code here\n",
        "# err = \n",
        "print('Probability error of predicting class based on neighbours = {}'.format(np.sum(err)/len(labeled_ranges)))"
      ]
    },
    {
      "attachments": {},
      "cell_type": "markdown",
      "metadata": {},
      "source": [
        "### (2) Check uniformness of class distribution:"
      ]
    },
    {
      "cell_type": "code",
      "execution_count": null,
      "metadata": {},
      "outputs": [],
      "source": [
        "L = len(labeled_ranges)\n",
        "p = []\n",
        "for i in np.unique(labeled_ranges):\n",
        "    p.append(np.sum(labeled_ranges==i)/L)\n",
        "\n",
        "print('P({})={}'.format([0,1,2], [np.round(p_,2)  for p_ in p]))\n",
        "\n",
        "from scipy.spatial.distance import jensenshannon\n",
        "p_uniform = [1/3, 1/3, 1/3]\n",
        "d = jensenshannon(p_uniform, p)\n",
        "print('\\njensenshannon distance from uniform distribution = {}'.format(d))"
      ]
    }
  ],
  "metadata": {
    "colab": {
      "provenance": []
    },
    "kernelspec": {
      "display_name": "env3p7",
      "language": "python",
      "name": "python3"
    },
    "language_info": {
      "codemirror_mode": {
        "name": "ipython",
        "version": 3
      },
      "file_extension": ".py",
      "mimetype": "text/x-python",
      "name": "python",
      "nbconvert_exporter": "python",
      "pygments_lexer": "ipython3",
      "version": "3.7.10"
    },
    "orig_nbformat": 4,
    "vscode": {
      "interpreter": {
        "hash": "b8c53a5498add80e8ecdd9f0abc10f15143fa72e05e3d640d160415f31ee33e8"
      }
    }
  },
  "nbformat": 4,
  "nbformat_minor": 0
}
